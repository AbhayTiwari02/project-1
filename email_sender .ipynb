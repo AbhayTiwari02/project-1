{
 "cells": [
  {
   "cell_type": "code",
   "execution_count": 2,
   "id": "90a55386",
   "metadata": {},
   "outputs": [],
   "source": [
    "def email_send(path):\n",
    "    import smtplib\n",
    "    from email.mime.multipart import MIMEMultipart\n",
    "    from email.mime.text import MIMEText\n",
    "    from email.mime.image import MIMEImage\n",
    "    from email import encoders\n",
    "    sender_email = \"abhay877040@gmail.com\"\n",
    "    receiver_email = \"abhay46334@gmail.com\"\n",
    "    password = \"pddg zqtk nrzh qhxu\"\n",
    "    \n",
    "    msg = MIMEMultipart()\n",
    "    msg['From'] = sender_email\n",
    "    msg['To'] = receiver_email\n",
    "    msg['Subject'] = \"security\"\n",
    "    \n",
    "    body = \"criminal_detected in itm\"\n",
    "    msg.attach(MIMEText(body, 'plain'))\n",
    "\n",
    "\n",
    "    image_path = path\n",
    "    with open(image_path, 'rb') as image_file:\n",
    "\n",
    "        image = MIMEImage(image_file.read(), name=\"image.jpg\")\n",
    "\n",
    "        msg.attach(image)\n",
    "\n",
    "        # Set up the SMTP server\n",
    "\n",
    "    smtp_server = \"smtp.gmail.com\"\n",
    "\n",
    "    smtp_port = 587\n",
    "    # Establish a connection to the SMTP server\n",
    "\n",
    "    server = smtplib.SMTP(smtp_server, smtp_port)\n",
    "\n",
    "    server.starttls()\n",
    "    \n",
    "\n",
    "    server.login(sender_email, password)\n",
    "    server.sendmail(sender_email, receiver_email, msg.as_string())\n",
    "    server.quit()\n",
    "    return\n",
    "\n",
    "path=\"WIN_20231025_21_57_20_Pro.jpg\"\n",
    "email_send(path)"
   ]
  },
  {
   "cell_type": "code",
   "execution_count": null,
   "id": "5ad2ce32",
   "metadata": {},
   "outputs": [],
   "source": []
  }
 ],
 "metadata": {
  "kernelspec": {
   "display_name": "Python 3 (ipykernel)",
   "language": "python",
   "name": "python3"
  },
  "language_info": {
   "codemirror_mode": {
    "name": "ipython",
    "version": 3
   },
   "file_extension": ".py",
   "mimetype": "text/x-python",
   "name": "python",
   "nbconvert_exporter": "python",
   "pygments_lexer": "ipython3",
   "version": "3.11.4"
  }
 },
 "nbformat": 4,
 "nbformat_minor": 5
}
